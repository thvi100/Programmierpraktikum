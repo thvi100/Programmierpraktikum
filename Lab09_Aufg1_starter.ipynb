{
 "cells": [
  {
   "cell_type": "markdown",
   "metadata": {},
   "source": [
    "### Aufgabe \n",
    "\n",
    "Hat eine Funktion $f: \\mathbb{C} \\to \\mathbb{C}$ komplexe Nullstellen, so kann man diese ebenfalls mit dem gewohnten Newton-Verfahren finden. \n",
    "Die Iterationsvorschrift für $z \\in \\mathbb{C}$ ist damit\n",
    "\\begin{equation}\n",
    "  z_{n+1} = z_n - \\frac{f(z_n)}{f'(z_n)} \\, .\n",
    "\\end{equation}\n",
    "\n",
    "Betrachten Sie $f(z)=z^3-1$. Wieviele Nullstellen erwarten Sie? Wo liegen diese?\n",
    "\n",
    "Implementieren Sie das Newton-Verfahren für diese Funktion. Probieren Sie die folgenden Startbedingungen aus und lassen Sie sich während der Iteration immer die aktuelle Position $z$ in jedem Iterationsschritt ausgeben. Gegen welche Nullstelle konvergiert das Verfahren und wieviele Iterationsschritte sind nötig?\n",
    "\n",
    "1. Startwert: <code> x = -1 + 1j </code>\n",
    "2. Startwert: <code> x = -1 + 1j </code>\n",
    "3. Startwert: <code> x = -1e-18 - 5e-15j</code>"
   ]
  },
  {
   "cell_type": "code",
   "execution_count": 5,
   "metadata": {},
   "outputs": [
    {
     "name": "stdout",
     "output_type": "stream",
     "text": [
      "(-0.6666666666666667+0.8333333333333334j)\n",
      "(-0.5086919161874546+0.8410998744133783j)\n",
      "(-0.49932999564375125+0.8662691717880057j)\n",
      "(-0.4999999113699129+0.8660249031568892j)\n",
      "(-0.4999999999999555+0.8660254037846933j)\n",
      "(-0.5+0.8660254037844386j)\n",
      "(-0.5+0.8660254037844387j)\n",
      "(-0.5+0.8660254037844386j)\n",
      "(-0.5+0.8660254037844387j)\n",
      "(-0.5+0.8660254037844386j)\n",
      "(-0.5+0.8660254037844387j)\n",
      "(-0.5+0.8660254037844386j)\n",
      "(-0.5+0.8660254037844387j)\n",
      "(-0.5+0.8660254037844386j)\n",
      "(-0.5+0.8660254037844387j)\n",
      "(-0.5+0.8660254037844386j)\n",
      "(-0.5+0.8660254037844387j)\n",
      "(-0.5+0.8660254037844386j)\n",
      "(-0.5+0.8660254037844387j)\n",
      "(-0.5+0.8660254037844386j)\n",
      "(-0.5+0.8660254037844387j)\n",
      "(-0.5+0.8660254037844386j)\n",
      "(-0.5+0.8660254037844387j)\n",
      "(-0.5+0.8660254037844386j)\n",
      "(-0.5+0.8660254037844387j)\n",
      "(-0.5+0.8660254037844386j)\n",
      "(-0.5+0.8660254037844387j)\n",
      "(-0.5+0.8660254037844386j)\n",
      "(-0.5+0.8660254037844387j)\n",
      "(-0.5+0.8660254037844386j)\n",
      "(-0.5+0.8660254037844387j)\n",
      "(-0.5+0.8660254037844386j)\n",
      "(-0.5+0.8660254037844387j)\n",
      "(-0.5+0.8660254037844386j)\n",
      "(-0.5+0.8660254037844387j)\n",
      "(-0.5+0.8660254037844386j)\n",
      "(-0.5+0.8660254037844387j)\n",
      "(-0.5+0.8660254037844386j)\n",
      "(-0.5+0.8660254037844387j)\n",
      "(-0.5+0.8660254037844386j)\n"
     ]
    }
   ],
   "source": [
    "import numpy as np\n",
    "x= -1 + 1j\n",
    "def f(z):\n",
    "    f = x**3 -1\n",
    "    return f\n",
    "def f1(x):\n",
    "    f1 =3*x**2\n",
    "    return f1\n",
    "for i in range(40):\n",
    "    z = x - (f(x)/f1(x))\n",
    "    x = z\n",
    "    print(z)"
   ]
  }
 ],
 "metadata": {
  "kernelspec": {
   "display_name": "Python 3 (ipykernel)",
   "language": "python",
   "name": "python3"
  },
  "language_info": {
   "codemirror_mode": {
    "name": "ipython",
    "version": 3
   },
   "file_extension": ".py",
   "mimetype": "text/x-python",
   "name": "python",
   "nbconvert_exporter": "python",
   "pygments_lexer": "ipython3",
   "version": "3.9.7"
  }
 },
 "nbformat": 4,
 "nbformat_minor": 4
}
