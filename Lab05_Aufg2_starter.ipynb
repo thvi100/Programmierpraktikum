{
 "cells": [
  {
   "cell_type": "markdown",
   "id": "9758f4cd-66ab-4940-8c44-827f1ee69167",
   "metadata": {},
   "source": [
    "Lösen Sie mit Hilfe der Numpy Funktion <code>np.linalg.solve(M,r)</code> das lineare Gleichungssystem $\\mathsf{M}\\cdot \\vec{x} = \\vec{r}$,\n",
    "wobei\n",
    "\\begin{equation}\n",
    "  \\mathsf{M} = \\left(\n",
    "                  \\begin{matrix} \n",
    "                        2 &  3 &   4 & 5 \\\\\n",
    "                       -4 & -3 &  -1 &-3 \\\\ \n",
    "                        0 & 0 & -2 & 0 \\\\\n",
    "                        0 & 2 & 3 & 4 \n",
    "                   \\end{matrix}\n",
    "                \\right)\n",
    "                \\, , \\quad \n",
    "                \\vec{r} = \\left( \\begin{matrix} 0 \\\\ 2 \\\\ 4 \\\\ 6 \\end{matrix} \\right) \\, .\n",
    "\\end{equation}\n",
    "\n",
    "Wenn Sie die Lösung ermittelt haben, führen Sie auch die Probe durch. Verwenden Sie hierzu entweder die Funktion <code>np.dot()</code> oder den <code>@</code> Operator."
   ]
  },
  {
   "cell_type": "code",
   "execution_count": 2,
   "id": "e8aab5b9-4963-439f-9809-94e330c56c7e",
   "metadata": {},
   "outputs": [
    {
     "name": "stdout",
     "output_type": "stream",
     "text": [
      "[-6. 10. -2. -2.]\n",
      "[0. 2. 4. 6.]\n"
     ]
    }
   ],
   "source": [
    "import numpy as np\n",
    "M = np.array([[2,3,4,5],\n",
    "             [-4,-3,-1,-3],\n",
    "             [0,0,-2,0],\n",
    "             [0,2,3,4]])\n",
    "r = np.array([0,2,4,6])\n",
    "x = np.linalg.solve(M,r)\n",
    "x1 =  np.dot(M,x)\n",
    "print(x)\n",
    "print(x1)"
   ]
  }
 ],
 "metadata": {
  "kernelspec": {
   "display_name": "Python 3 (ipykernel)",
   "language": "python",
   "name": "python3"
  },
  "language_info": {
   "codemirror_mode": {
    "name": "ipython",
    "version": 3
   },
   "file_extension": ".py",
   "mimetype": "text/x-python",
   "name": "python",
   "nbconvert_exporter": "python",
   "pygments_lexer": "ipython3",
   "version": "3.9.7"
  }
 },
 "nbformat": 4,
 "nbformat_minor": 5
}
