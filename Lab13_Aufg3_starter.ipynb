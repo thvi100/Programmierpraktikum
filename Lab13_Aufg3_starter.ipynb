{
 "cells": [
  {
   "cell_type": "markdown",
   "id": "335b7c89-2c9e-4fd7-9dc7-61c4763c7477",
   "metadata": {},
   "source": [
    "### Aufgabe \n",
    "\n",
    "Im folgenden Programm soll ein Signal $f(t)$ mit Hilfe der Fourier-Transformation abgeleitet werden, d.h. aus $f(t)$ soll $f'(t)$ bestimmt werden. Die könnte man über finite Differenzen erreichen, genauer geht es jedoch mit der diskreten Fourier-Transformation.  \n",
    "\n",
    "Wie an der Tafel gezeigt, lässt sich im Fourierraum die Ableitung durch die Multiplikation mit $i \\omega$ berechnen.\n",
    "Es gilt:\n",
    "\\begin{equation}\n",
    " f'(\\omega) = -\\text{i} \\omega f( \\omega)\\, .\n",
    "\\end{equation}\n",
    "\n",
    "Setzen Sie dies für das das Signal ```data2.txt``` in ein Programm um. Berechnen Sie die Ableitung des Signals und plotten Sie anschließend das Orignalsignal und seine Ableitung in die gleiche Abbildung."
   ]
  },
  {
   "cell_type": "code",
   "execution_count": null,
   "id": "10aa1e96-86ab-4193-a759-39ba211d0283",
   "metadata": {},
   "outputs": [],
   "source": []
  },
  {
   "cell_type": "code",
   "execution_count": 13,
   "id": "cda191fe-d103-4dfd-9cef-a3d001769b5f",
   "metadata": {},
   "outputs": [
    {
     "name": "stderr",
     "output_type": "stream",
     "text": [
      "/opt/jupyterhub/lib64/python3.9/site-packages/matplotlib/cbook/__init__.py:1333: ComplexWarning: Casting complex values to real discards the imaginary part\n",
      "  return np.asarray(x, float)\n"
     ]
    },
    {
     "data": {
      "text/plain": [
       "[<matplotlib.lines.Line2D at 0x7f724e2c0e50>]"
      ]
     },
     "execution_count": 13,
     "metadata": {},
     "output_type": "execute_result"
    },
    {
     "data": {
      "image/png": "[encoded data removed]",
      "text/plain": [
       "<Figure size 360x360 with 1 Axes>"
      ]
     },
     "metadata": {
      "needs_background": "light"
     },
     "output_type": "display_data"
    }
   ],
   "source": [
    "import numpy as np\n",
    "import matplotlib.pyplot as plt\n",
    "\n",
    "# Settings für Plots\n",
    "plt.rcParams['font.size'] = 15;\n",
    "plt.rcParams['figure.figsize'] = [5,5]  \n",
    "\n",
    "A = np.loadtxt('data3.txt', delimiter=',')\n",
    "\n",
    "\n",
    "t = A[:,0]\n",
    "f = A[:,1]\n",
    "\n",
    "N = t.shape[0]\n",
    "dt = t[2]-t[1]\n",
    "T = t[-1] + dt\n",
    "dOm = 2*np.pi / T\n",
    "om = dOm * np.arange(-N/2, N/2)\n",
    "\n",
    "FT = np.fft.fft(f)\n",
    "F = np.fft.fftshift(FT)\n",
    "\n",
    "fa = 1j*om*F\n",
    "FR = np.fft.ifft(np.fft.fftshift(fa))\n",
    "\n",
    "plt.plot(t,f)\n",
    "plt.plot(t,FR)\n"
   ]
  },
  {
   "cell_type": "code",
   "execution_count": null,
   "id": "039988d6-73ff-411d-b6a9-b04ce0a055cc",
   "metadata": {},
   "outputs": [],
   "source": []
  }
 ],
 "metadata": {
  "kernelspec": {
   "display_name": "Python 3 (ipykernel)",
   "language": "python",
   "name": "python3"
  },
  "language_info": {
   "codemirror_mode": {
    "name": "ipython",
    "version": 3
   },
   "file_extension": ".py",
   "mimetype": "text/x-python",
   "name": "python",
   "nbconvert_exporter": "python",
   "pygments_lexer": "ipython3",
   "version": "3.9.7"
  }
 },
 "nbformat": 4,
 "nbformat_minor": 5
}
