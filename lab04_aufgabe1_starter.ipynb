{
 "cells": [
  {
   "cell_type": "markdown",
   "id": "c470ae12-3260-42b9-9ad7-f9cbde9254c4",
   "metadata": {},
   "source": [
    "## Aufgabe\n",
    "\n",
    "In der Datei `produkt_tu_stunde_20210513_20221113_01078.txt` befinden sich Temperatur und rel. Luftfeuchtigkeit für die Wetterstation am Düsseldorfer Flughafen im Zeitraum 13.5.2021 bis 13.11.2022. Beide Werte sind stündlich verfügbar.\n",
    "\n",
    "Um die Daten aus der Datei in ein NumPy Array einzulesen wird der Befehl ```numpy.loadtxt()```[(Doku hier)](https://numpy.org/doc/stable/reference/generated/numpy.loadtxt.html) verwendet. Mit  \n",
    "```Python\n",
    "A = np.loadtxt('produkt_tu_stunde_20210513_20221113_01078.txt', skiprows=1, delimiter=';', usecols=(3,4))\n",
    "```\n",
    "werden die Daten in das Array ```A``` eingelesen. Es wird nur der Spalten(-index) 3 (Temperatur) gelesen und dabei die erste Zeile übersprungen.\n",
    "\n",
    "#### Teil 1\n",
    "\n",
    "Schreiben Sie ein Programm, dass zunächst\n",
    "1. die mittlere Temperatur über alle Stundenwerte berechnet und ausgibt (```numpy.mean(...)``` verwenden).\n",
    "2. für jeden Tag die mittlere Temperatur berechnet und all diese Mittelwerte in ein Array ```mean_daily``` speichert.\n",
    "3. den höchsten und den niedrigsten Tagesmittelwert ausgibt (```numpy.max()``` / ```numpy.min()```).\n",
    "\n",
    "Um den Verlauf des Tagesmittelwerts zeichnen zu lassen, verwenden Sie folgenden Code:\n",
    "```Python\n",
    "import matplotlib.pyplot as plt\n",
    "\n",
    "# Hier das bestehende Programm \n",
    "# ....\n",
    "# und dann unter das Programm:\n",
    "\n",
    "plt.plot(mean_daily)\n",
    "plt.show()\n",
    "```\n",
    "\n",
    "#### Teil 2\n",
    "\n",
    "Bestimmen Sie die maximale Temperaturdifferenz zwischen niedrigster und höchster Temperatur innerhalb eines Tages im Zeitraum der Daten?\n",
    "An welchem Tag trat diese auf? (Die Tage sind nummeriert von 0 bis N-1, gefragt ist nach dem Index des Tages).\n",
    "\n",
    "#### Teil 3\n",
    "\n",
    "Bestimmen Sie in einem Array ```mean_hourly```die mittlere Temperatur der jeweiligen Stundenwerte aller Tage (also mittlere Temp. um 0 Uhr, \n",
    "um 1 Uhr, 2 Uhr, ...).\n",
    "\n"
   ]
  },
  {
   "cell_type": "code",
   "execution_count": 57,
   "id": "069308f0-9f08-455c-8a76-eda687f9271f",
   "metadata": {},
   "outputs": [
    {
     "name": "stdout",
     "output_type": "stream",
     "text": [
      "13.484204545454546\n",
      "550.0\n",
      "np max 28.583333\n",
      "np min -1.950000\n",
      "in Tag 431 hat maxinale diff Temp. 21.000000\n"
     ]
    }
   ],
   "source": [
    "import numpy as np\n",
    "\n",
    "# Daten einlesen, dabei erste Zeile überspringen und nur Spalten 4 verwenden\n",
    "A = np.loadtxt('produkt_tu_stunde_20210513_20221113_01078.txt', skiprows=1, delimiter=';', usecols=(3))\n",
    "print(np.mean(A))\n",
    "mean_daily = np.zeros(b)\n",
    "diff = np.zeros(b)\n",
    "print(len(A)/24)\n",
    "b=int(len(A)/24)\n",
    "for i in range(b):\n",
    "    A2= A[i*24:(i+1)*24]\n",
    "    diff[i] = np.max(A2) -np.min(A2)\n",
    "    #print('differenz Temp. Tag %d %f' %(i+1, diff[i]))\n",
    "    mean_daily[i]= np.mean(A2)\n",
    "\n",
    "print('np max %f' %(np.max(mean_daily)))\n",
    "print('np min %f' %(np.min(mean_daily)))\n",
    "print('in Tag %d hat maxinale diff Temp. %f' %(np.argmax(diff), np.max(diff)))"
   ]
  },
  {
   "cell_type": "code",
   "execution_count": 60,
   "id": "d23e399e-7753-4ec6-8feb-e807756df34f",
   "metadata": {},
   "outputs": [
    {
     "name": "stdout",
     "output_type": "stream",
     "text": [
      "[11.13836364 10.82545455 10.588      10.36090909 10.24181818 10.53236364\n",
      " 11.14363636 12.01890909 13.07963636 14.13890909 15.08018182 15.806\n",
      " 16.44072727 16.82       16.96727273 16.94690909 16.57927273 15.98290909\n",
      " 15.24418182 14.23218182 13.30018182 12.54945455 12.038      11.56563636]\n"
     ]
    }
   ],
   "source": [
    "mean_hourly = np.zeros(24)\n",
    "A3 = np.zeros(b)\n",
    "for i1 in range(24):\n",
    "    for i2 in range(b):\n",
    "        A3[i2]= A[i2*24+i1]\n",
    "    mean_hourly[i1]= np.mean(A3)\n",
    "print(mean_hourly)\n",
    "        "
   ]
  },
  {
   "cell_type": "code",
   "execution_count": 61,
   "id": "013ec7f8-50cd-40d1-aea1-f134d695d2ab",
   "metadata": {},
   "outputs": [
    {
     "data": {
      "image/png": "[encoded data removed]",
      "text/plain": [
       "<Figure size 432x288 with 1 Axes>"
      ]
     },
     "metadata": {
      "needs_background": "light"
     },
     "output_type": "display_data"
    }
   ],
   "source": [
    "import matplotlib.pyplot as plt\n",
    "plt.plot(mean_hourly)\n",
    "plt.show()"
   ]
  },
  {
   "cell_type": "code",
   "execution_count": null,
   "id": "b208e240-a925-437c-8469-eef48b74dd3e",
   "metadata": {},
   "outputs": [],
   "source": []
  }
 ],
 "metadata": {
  "kernelspec": {
   "display_name": "Python 3 (ipykernel)",
   "language": "python",
   "name": "python3"
  },
  "language_info": {
   "codemirror_mode": {
    "name": "ipython",
    "version": 3
   },
   "file_extension": ".py",
   "mimetype": "text/x-python",
   "name": "python",
   "nbconvert_exporter": "python",
   "pygments_lexer": "ipython3",
   "version": "3.9.7"
  }
 },
 "nbformat": 4,
 "nbformat_minor": 5
}
