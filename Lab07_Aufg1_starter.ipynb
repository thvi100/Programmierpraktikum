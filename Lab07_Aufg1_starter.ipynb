{
 "cells": [
  {
   "cell_type": "markdown",
   "id": "4bacb23d-6c79-4994-87c9-9a58363717b3",
   "metadata": {},
   "source": [
    "## Aufgabe \n",
    "\n",
    "In dieser Aufgabe geht es darum die Orientierung eines einzelnen Objekts in Binärbildern zu bestimmen.\n",
    "Bei den Beispiel-Objekten handelt es sich um Buchstaben. Auf den mitgelieferten .png Bildern ist jeweils ein einzelner Buchstabe abgebildet.\n",
    "Diese Buchstaben könnten zum Beispiel das Zwischenergebnis eines Texterkennungssystems sein.\n",
    "\n",
    "Die Aufgabe ist in zwei Teile geteilt. Zunächst geht es in **Teil 1** darum ein Bild einzulesen und für die weitere Verarbeitung vorzubereiten.\n",
    "In **Teil 2** interpretieren wir die schwarzen Pixel im Bild als Massenverteilung und benutzen das Konzept der Trägheitsmomente, um die Gestalt und die Orientierung des Objekts zu beschreiben."
   ]
  },
  {
   "cell_type": "markdown",
   "id": "1cbe2022-6995-4b5d-b2eb-1184388a69df",
   "metadata": {
    "tags": []
   },
   "source": [
    "### Teil 1\n",
    "1. Verwenden Sie den Befehl <code>plt.imread()</code> um eines der beiliegenden Bilder in ein Numpy Array <code>A</code> einzulesen.\n",
    "2. Erzeugen Sie eine <code>Figure</code> mit zwei Subplots.\n",
    "3. Plotten Sie im ersten Subplot mittels <code>plt.imshow(A)</code> das Array <code>A</code>.\n",
    "4. Stellen Sie im zweiten Subplot nur den Rotkanal dar: <code>plt.imshow(A[:,:,0], cmap = 'binary')</code>. \n",
    "5. Fügen Sie zum zweiten Subplot eine Colorbar hinzu (<code>plt.colorbar()</code>). Was im ersten Bild entspricht dem Wert 1, was dem Wert 0?\n",
    "6. Finden Sie einen Weg eine neues Array <code>M</code> zu erstellen, in dem genau die inversen Werte zum Punkt 5 gespeichert sind.\n"
   ]
  },
  {
   "cell_type": "code",
   "execution_count": 1,
   "id": "0936ed2c-602b-4e5d-8ca4-39fabaa2990d",
   "metadata": {},
   "outputs": [
    {
     "data": {
      "text/plain": [
       "<matplotlib.image.AxesImage at 0x7f8c849feeb0>"
      ]
     },
     "execution_count": 1,
     "metadata": {},
     "output_type": "execute_result"
    },
    {
     "data": {
      "image/png": "[encoded data removed]",
      "text/plain": [
       "<Figure size 432x288 with 4 Axes>"
      ]
     },
     "metadata": {
      "needs_background": "light"
     },
     "output_type": "display_data"
    }
   ],
   "source": [
    "import numpy as np\n",
    "import matplotlib.pyplot as plt\n",
    "A = plt.imread('t.png')\n",
    "plt.subplot(2,2,1)\n",
    "plt.imshow(A)\n",
    "\n",
    "plt.subplot(2,2,2)\n",
    "plt.imshow(A[:,:,0], cmap = 'binary')\n",
    "plt.colorbar()\n",
    "\n",
    "M = 1-A[:,:,0]\n",
    "plt.subplot(2,2,3)\n",
    "plt.imshow(M, cmap = 'binary')\n",
    "\n"
   ]
  },
  {
   "cell_type": "markdown",
   "id": "6d7a2bab-2b16-42c4-9d42-6feaac5b870f",
   "metadata": {},
   "source": [
    "1.### Teil 2\n",
    "\n",
    "#### Theorie\n",
    "\n",
    "Um nun die Gestalt des Objekts und seine Ausrichtung zu ermitteln interpretiert man die Pixelverteilung als Masseverteilung $m(x,y)$.\n",
    "Hierfür geht man wie folgt vor:\n",
    "1. Zunächst ermittelt man den Schwerpunkt der Masseverteilung. Dieser ist formal definiert durch\n",
    "   \\begin{equation}\n",
    "    \\left( \\begin{matrix} \\bar{x} \\\\ \\bar{y} \\end{matrix} \\right)    = \\frac{1}{\\mu_{00}} \n",
    "     \\iint\\left( \\begin{matrix} x \\\\ y \\end{matrix} \\right)\n",
    "     f(x,y) \\, dx dy \\, , \\quad \\mu_{00} = \\iint f(x,y) \\, dx dy \\, .\n",
    "   \\end{equation}\n",
    "   Für die diskreten Massenelemente (Pixel) ist dies also\n",
    "   \\begin{equation}\n",
    "        \\left( \\begin{matrix} \\bar{x} \\\\ \\bar{y} \\end{matrix} \\right)\n",
    "    =  \\frac{1}{\\mu_{00}}\n",
    "    \\sum_i \\sum_j \\left( \\begin{matrix} x_j \\\\ y_i \\end{matrix} \\right)\n",
    "    f(x_j,y_i) \\, , \\quad \\mu_{00} = \\sum_i \\sum_j f(x_j, y_i) \\, .\n",
    "    \\end{equation}\n",
    "    Die Werte $f(x_j, y_i)$ sind dabei die Matrixelemente $M_{ij}$ und wir können \n",
    "    $x_j =j$ und $y_i=i$ wählen, womit wir\n",
    "    \\begin{equation}\n",
    "        \\left( \\begin{matrix} \\bar{x} \\\\ \\bar{y} \\end{matrix} \\right)\n",
    "       = \\frac{1}{\\mu_{00}} \n",
    "    \\sum_i \\sum_j \\left( \\begin{matrix} j \\\\ i \\end{matrix} \\right)\n",
    "M_{ij}\\,  , \\quad \\mu_{00} = \\sum_i \\sum_j M_{ij} \\, .\n",
    "       \\end{equation}\n",
    "      erhalten.\n",
    "   \n",
    "2. Kennt man die Koordinate des Schwerpunkts, berechnet man die Trägheitsmomente $\\mu_{11}, \\mu_{20}, \\mu_{02}$\n",
    "   im Schwerpunktssystem des Körpers,\n",
    "   \\begin{equation}\n",
    "        \\mu_{pq} = \\iint (x-\\bar{x})^p (y-\\bar{y})^q f(x,y) \\, dx dy \\, .\n",
    "   \\end{equation}\n",
    "   Für die diskreten Massenelemente wird dies zu\n",
    "   \\begin{equation}\n",
    "        \\mu_{pq} = \\sum_i \\sum_j (j-\\bar{x})^p (i-\\bar{y})^q M_{ij} \\, .\n",
    "      \\end{equation}\n",
    "\n",
    "3. Im Hauptachsensystem, ein um das bisher verwendete Koordinatensystem um den Winkel $\\theta$ rotiertes\n",
    "   System, wird das Trägsheitsmoment $\\mu_{20}$ maximal und gleichzeitig $\\mu_{02}$ minimal. Seien diese\n",
    "   Trägheitsmomente im Hauptachsensystem $I_1$ und $I_2$. Man erhält $I_{1,2}$ aus der Gleichung\n",
    "    \\begin{equation}     \n",
    "      I_{1,2} = \\left[ (\\mu_{20} + \\mu_{02}) \n",
    "               \\pm\n",
    "              \\sqrt{(\\mu_{20}-\\mu_{02})^2 + 4 \\mu_{11}^2 } \\right] / 2 \\, .\n",
    "      \\end{equation}\n",
    "   Der Winkel $\\theta$, um das man das bisherige System drehen müsste, um auf das Hauptachsensystem \n",
    "   zu kommen, ist \n",
    "  \\begin{equation}\n",
    "     \\theta = \\frac{1}{2} \\tan^{-1} \n",
    "    \\left( \\frac{2\\mu_{11}}{\\mu_{20}-\\mu_{02}} \\right) \\,. \n",
    "   \\end{equation}\n",
    "4. Im Hauptachsensystem könnte man die Massenverteilung durch eine Ellipse homogener Masse mit den\n",
    "   beiden Radien \n",
    "   \\begin{equation}\n",
    "       a = 2 \\sqrt{ I_1 / \\mu_{00}} \\, , \\quad  b = 2 \\sqrt{ I_2 / \\mu_{00}} \\, .\n",
    "   \\end{equation}\n",
    "   ersetzen.\n",
    "   \n",
    "#### Umsetzung\n",
    "\n",
    "1. Berechnen Sie $\\mu_{00}$.\n",
    "2. Bestimmen Sie die Koordinate $\\vec{r}_0$ des Massenschwerpunkts\n",
    "   (Check: Für das Bild <code>t.png</code> müssen Sie etwa (136.6/150.9) erhalten).\n",
    "3. Berechnen Sie die die Trägheitsmomente $\\mu_{11}, \\mu_{20}, \\mu_{02}$.\n",
    "4. Bestimmen Sie $\\theta$.\n",
    "5. Bestimmen Sie $a$ und $b$.\n",
    "6. Stellen Sie die Ergebnisse mit dem folgenen Plotbefehl dar:\n",
    "    ```Python\n",
    "    phi = np.linspace(0,2*np.pi)\n",
    "    ex = b*np.sin(phi)\n",
    "    ey = a*np.cos(phi)\n",
    "\n",
    "    exr = np.cos(theta) * ex - np.sin(theta) * ey\n",
    "    eyr = np.sin(theta) * ex + np.cos(theta) * ey\n",
    "    exr = exr + r0[0]\n",
    "    eyr = eyr + r0[1]\n",
    "\n",
    "    plt.figure()\n",
    "    plt.imshow(M, cmap='binary')\n",
    "    plt.plot(r0[0],r0[1],'r+')\n",
    "    plt.plot(exr, eyr, 'b-')\n",
    "    ```\n",
    "7. Ermitteln Sie, um wieviel Grad das Bild <code>t_rot.png</code> gegenüber <code>t.png</code> verdreht wurde."
   ]
  },
  {
   "cell_type": "code",
   "execution_count": 16,
   "id": "4271a0b7-eae2-46d3-a1e8-48f19a877f5f",
   "metadata": {},
   "outputs": [
    {
     "name": "stdout",
     "output_type": "stream",
     "text": [
      "2484.765\n",
      "[[0. 0. 0. ... 0. 0. 0.]\n",
      " [0. 0. 0. ... 0. 0. 0.]\n",
      " [0. 0. 0. ... 0. 0. 0.]\n",
      " ...\n",
      " [0. 0. 0. ... 0. 0. 0.]\n",
      " [0. 0. 0. ... 0. 0. 0.]\n",
      " [0. 0. 0. ... 0. 0. 0.]]\n",
      "159459.15670277365\n",
      "235444.86814604138\n",
      "2826910.290095828\n",
      "-0.06122458413360227\n",
      "67.5760691683432 19.060052659123006\n"
     ]
    },
    {
     "data": {
      "text/plain": [
       "[<matplotlib.lines.Line2D at 0x7f8c8460d220>]"
      ]
     },
     "execution_count": 16,
     "metadata": {},
     "output_type": "execute_result"
    },
    {
     "data": {
      "image/png": "[encoded data removed]",
      "text/plain": [
       "<Figure size 432x288 with 1 Axes>"
      ]
     },
     "metadata": {
      "needs_background": "light"
     },
     "output_type": "display_data"
    }
   ],
   "source": [
    "import math as m\n",
    "B = plt.imread('t.png')\n",
    "mu00 = 0\n",
    "#n = np.shape(A)\n",
    "N = 1-B[:,:,0]\n",
    "mu00 = np.sum(N)\n",
    "print(mu00)\n",
    "###############################\n",
    "# Koordinate r0 = (x0,y0) des Schwerpunkts\n",
    "# der Massenverteilung berechnen\n",
    "##############################\n",
    "n = np.shape(N)\n",
    "print(N)\n",
    "x0 = 0\n",
    "y0 = 0\n",
    "for i in range(n[0]):\n",
    "    for j in range(n[1]):\n",
    "        x0 += j*(N[i][j])\n",
    "        y0 += i*N[i,j]\n",
    "x0 = x0/mu00\n",
    "y0 = y0/mu00\n",
    "\n",
    "#############################\n",
    "# Trägheitsmomente berechnen:\n",
    "#############################\n",
    "\n",
    "mu11 = 0\n",
    "mu20 = 0\n",
    "mu02 = 0\n",
    "\n",
    "for i in range(n[0]):\n",
    "    for j in range(n[1]):\n",
    "        mu11 += ((j-x0)**1)*((i-y0)**1)*(N[i,j]) \n",
    "        mu20 += ((j-x0)**2)*((i-y0)**0)*(N[i,j]) \n",
    "        mu02 += ((j-x0)**0)*((i-y0)**2)*(N[i,j]) \n",
    "print(mu11)\n",
    "print(mu20)\n",
    "print(mu02)\n",
    "theta = 0.5 * m.atan((2*mu11)/(mu20-mu02))\n",
    "print(theta)\n",
    "\n",
    "I1 = 0.5* ((mu20+mu02)+m.sqrt((mu20-mu02)**2+4*mu11**2))\n",
    "I2 = 0.5* ((mu20+mu02)-m.sqrt((mu20-mu02)**2+4*mu11**2))\n",
    "\n",
    "a = 2* m.sqrt(I1/mu00)\n",
    "b = 2* m.sqrt(I2/mu00)\n",
    "print(a,b)\n",
    "r0 = [x0,y0]\n",
    "phi = np.linspace(0,2*np.pi)\n",
    "ex = b*np.sin(phi)\n",
    "ey = a*np.cos(phi)\n",
    "\n",
    "exr = np.cos(theta) * ex - np.sin(theta) * ey\n",
    "eyr = np.sin(theta) * ex + np.cos(theta) * ey\n",
    "exr = exr + r0[0]\n",
    "eyr = eyr + r0[1]\n",
    "print(theta)\n",
    "plt.figure()\n",
    "plt.imshow(M, cmap='binary')\n",
    "plt.plot(r0[0],r0[1],'r+')\n",
    "plt.plot(exr, eyr, 'b-')\n",
    "\n",
    "#plt.subplot(2,1,2)\n",
    "C = plt.imread('t_rot.png')\n",
    "#plt.imshow(C, cmap='binary')\n"
   ]
  },
  {
   "cell_type": "code",
   "execution_count": null,
   "id": "d7330ae8-d3a0-45bc-928d-01bdb7b2abfa",
   "metadata": {},
   "outputs": [],
   "source": []
  },
  {
   "cell_type": "code",
   "execution_count": 22,
   "id": "25f71487-891d-4909-a085-a379d7528780",
   "metadata": {},
   "outputs": [
    {
     "name": "stdout",
     "output_type": "stream",
     "text": [
      "2482.2354\n",
      "587207.1809188379\n",
      "365449.8403765737\n",
      "2695947.122106243\n",
      "-0.23339450690356794\n"
     ]
    },
    {
     "data": {
      "text/plain": [
       "0.17216992276996568"
      ]
     },
     "execution_count": 22,
     "metadata": {},
     "output_type": "execute_result"
    },
    {
     "data": {
      "image/png": "[encoded data removed]",
      "text/plain": [
       "<Figure size 432x288 with 1 Axes>"
      ]
     },
     "metadata": {
      "needs_background": "light"
     },
     "output_type": "display_data"
    }
   ],
   "source": [
    "import math as m\n",
    "C = plt.imread('t_rot.png')\n",
    "mu00 = 0\n",
    "#n = np.shape(A)\n",
    "O = 1-C[:,:,0]\n",
    "mu00 = np.sum(O)\n",
    "print(mu00)\n",
    "###############################\n",
    "# Koordinate r0 = (x0,y0) des Schwerpunkts\n",
    "# der Massenverteilung berechnen\n",
    "##############################\n",
    "k = np.shape(O)\n",
    "\n",
    "x0 = 0\n",
    "y0 = 0\n",
    "for i in range(k[0]):\n",
    "    for j in range(k[1]):\n",
    "        x0 += j*(O[i][j])\n",
    "        y0 += i*O[i,j]\n",
    "x0 = x0/mu00\n",
    "y0 = y0/mu00\n",
    "\n",
    "#############################\n",
    "# Trägheitsmomente berechnen:\n",
    "#############################\n",
    "\n",
    "mu11 = 0\n",
    "mu20 = 0\n",
    "mu02 = 0\n",
    "\n",
    "for i in range(n[0]):\n",
    "    for j in range(n[1]):\n",
    "        mu11 += ((j-x0)**1)*((i-y0)**1)*(O[i,j]) \n",
    "        mu20 += ((j-x0)**2)*((i-y0)**0)*(O[i,j]) \n",
    "        mu02 += ((j-x0)**0)*((i-y0)**2)*(O[i,j]) \n",
    "print(mu11)\n",
    "print(mu20)\n",
    "print(mu02)\n",
    "theta1 = 0.5 * m.atan((2*mu11)/(mu20-mu02))\n",
    "print(theta1)\n",
    "\n",
    "I1 = 0.5* ((mu20+mu02)+m.sqrt((mu20-mu02)**2+4*mu11**2))\n",
    "I2 = 0.5* ((mu20+mu02)-m.sqrt((mu20-mu02)**2+4*mu11**2))\n",
    "\n",
    "a = 2* m.sqrt(I1/mu00)\n",
    "b = 2* m.sqrt(I2/mu00)\n",
    "#print(a,b)\n",
    "r0 = [x0,y0]\n",
    "phi = np.linspace(0,2*np.pi)\n",
    "ex = b*np.sin(phi)\n",
    "ey = a*np.cos(phi)\n",
    "\n",
    "exr = np.cos(theta) * ex - np.sin(theta) * ey\n",
    "eyr = np.sin(theta) * ex + np.cos(theta) * ey\n",
    "exr = exr + r0[0]\n",
    "eyr = eyr + r0[1]\n",
    "\n",
    "plt.figure()\n",
    "plt.imshow(C, cmap='binary')\n",
    "plt.plot(r0[0],r0[1],'r+')\n",
    "plt.plot(exr, eyr, 'b-')\n",
    "\n",
    "winkel = theta - theta1\n",
    "winkel\n"
   ]
  }
 ],
 "metadata": {
  "kernelspec": {
   "display_name": "Python 3 (ipykernel)",
   "language": "python",
   "name": "python3"
  },
  "language_info": {
   "codemirror_mode": {
    "name": "ipython",
    "version": 3
   },
   "file_extension": ".py",
   "mimetype": "text/x-python",
   "name": "python",
   "nbconvert_exporter": "python",
   "pygments_lexer": "ipython3",
   "version": "3.9.7"
  }
 },
 "nbformat": 4,
 "nbformat_minor": 5
}
